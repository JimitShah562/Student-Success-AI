{
 "cells": [
  {
   "cell_type": "code",
   "execution_count": null,
   "id": "8373abcf",
   "metadata": {},
   "outputs": [],
   "source": [
    "import joblib\n",
    "import os \n",
    "\n",
    "os.makedirs(\"../Models\", exist_ok=True)\n",
    "\n",
    "joblib.dump(tree_model, \"../Models/student_model.pkl\")\n",
    "print(\"✅ Model Saved \")"
   ]
  }
 ],
 "metadata": {
  "language_info": {
   "name": "python"
  }
 },
 "nbformat": 4,
 "nbformat_minor": 5
}
