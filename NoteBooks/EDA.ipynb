{
 "cells": [
  {
   "cell_type": "code",
   "execution_count": null,
   "id": "448b56d8",
   "metadata": {},
   "outputs": [],
   "source": [
    "import pandas as pd\n",
    "\n",
    "import seaborn as sns \n",
    "# Library That draw beautiful chart using your data\n",
    "# It works with Pandas DataFrames & used in EDA !\n",
    "\n",
    "import matplotlib.pyplot as plt \n",
    "\n",
    "df = pd.read_csv(r\"C:\\Users\\shahj\\OneDrive\\Desktop\\Programing\\AI_ML (ChatGPT)\\Projects\\Student Success AI\\Data\\student_data.csv\")\n",
    "\n",
    "# print(df.head())\n",
    "# print(df.info())\n",
    "# print(df.describe())\n",
    "\n",
    "print(df.isnull().sum()) # For missing values !\n",
    "\n",
    "print(df['result'].value_counts()) # Total pass or fail students !\n",
    "\n",
    "\n",
    "# histplot = Histogram Plot\n",
    "# Shows distribution of single input ! like how many students studied for 1 hour, 2 hours !\n",
    "sns.histplot(data=df, x='study_hours', hue='result', kde=True)\n",
    "# x = column on X-Axis, hue = Adds colour based on result, kde = draw smooth curve !\n",
    "plt.title('Study Hours Distribution')\n",
    "plt.show()\n",
    "\n",
    "\n",
    "# boxplot shows how data is spread \n",
    "sns.boxplot(data=df, x='result', y='attendance')\n",
    "plt.title('--Attendance vs. Result--')\n",
    "plt.show()\n",
    "\n",
    "sns.heatmap(df[['study_hours', 'attendance', 'assignments_done']].corr(), annot=True, cmap='coolwarm')\n",
    "plt.title('Correlation Heatmap')\n",
    "plt.show()"
   ]
  }
 ],
 "metadata": {
  "kernelspec": {
   "display_name": "Python 3",
   "language": "python",
   "name": "python3"
  },
  "language_info": {
   "codemirror_mode": {
    "name": "ipython",
    "version": 3
   },
   "file_extension": ".py",
   "mimetype": "text/x-python",
   "name": "python",
   "nbconvert_exporter": "python",
   "pygments_lexer": "ipython3",
   "version": "3.12.4"
  }
 },
 "nbformat": 4,
 "nbformat_minor": 5
}
